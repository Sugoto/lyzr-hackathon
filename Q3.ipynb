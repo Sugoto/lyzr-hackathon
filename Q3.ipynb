{
 "cells": [
  {
   "cell_type": "code",
   "execution_count": 1,
   "metadata": {},
   "outputs": [
    {
     "name": "stdout",
     "output_type": "stream",
     "text": [
      "Test Case 1 Output: [2, 3, 1]\n",
      "Test Case 2 Output: [1, 2, 2, 2]\n",
      "Test Case 3 Output: [2, 2, 1]\n",
      "Test Case 4 Output: [2, 1, 1, 1]\n",
      "Test Case 5 Output: [1, 2, 2, 1]\n"
     ]
    }
   ],
   "source": [
    "# This function, stocks_fn, takes in two parameters: stocks and investors.\n",
    "# The stocks parameter is a list of lists, where each inner list represents a stock with its start and end values.\n",
    "# The investors parameter is a list of integers, representing the investment values of different investors.\n",
    "\n",
    "# The function iterates over each investor and counts the number of stocks in which\n",
    "# the investor's value falls within the start and end values.\n",
    "# The count is then appended to the answer list.\n",
    "\n",
    "# Finally, the function returns the answer list.\n",
    "\n",
    "# The subsequent code defines input cases and expected output cases.\n",
    "# The function is called with each input case, and the results are stored in separate variables.\n",
    "# The results are then printed for each test case.\n",
    "\n",
    "def stocks_fn(stocks, investors):\n",
    "    answer = []\n",
    "\n",
    "    for investor in investors:\n",
    "        count = 0\n",
    "        for stock in stocks:\n",
    "            if stock[0] <= investor <= stock[1]:\n",
    "                count += 1\n",
    "        answer.append(count)\n",
    "\n",
    "    return answer\n",
    "\n",
    "\n",
    "input_case_1 = [[1, 4], [2, 3], [3, 5]]\n",
    "output_case_1 = [2, 3, 5]\n",
    "\n",
    "input_case_2 = [[1, 6], [3, 7], [9, 12], [4, 13]]\n",
    "output_case_2 = [2, 3, 7, 11]\n",
    "\n",
    "input_case_3 = [[1, 10], [3, 3]]\n",
    "output_case_3 = [3, 3, 2]\n",
    "\n",
    "input_case_4 = [[5, 8], [6, 7], [8, 10]]\n",
    "output_case_4 = [6, 9, 10, 5]\n",
    "\n",
    "input_case_5 = [[1, 2], [2, 3], [3, 4]]\n",
    "output_case_5 = [1, 2, 3, 4]\n",
    "\n",
    "result_1 = stocks_fn(input_case_1, output_case_1)\n",
    "result_2 = stocks_fn(input_case_2, output_case_2)\n",
    "result_3 = stocks_fn(input_case_3, output_case_3)\n",
    "result_4 = stocks_fn(input_case_4, output_case_4)\n",
    "result_5 = stocks_fn(input_case_5, output_case_5)\n",
    "\n",
    "print(\"Test Case 1 Output:\", result_1)\n",
    "print(\"Test Case 2 Output:\", result_2)\n",
    "print(\"Test Case 3 Output:\", result_3)\n",
    "print(\"Test Case 4 Output:\", result_4)\n",
    "print(\"Test Case 5 Output:\", result_5)"
   ]
  }
 ],
 "metadata": {
  "kernelspec": {
   "display_name": "myenv",
   "language": "python",
   "name": "python3"
  },
  "language_info": {
   "codemirror_mode": {
    "name": "ipython",
    "version": 3
   },
   "file_extension": ".py",
   "mimetype": "text/x-python",
   "name": "python",
   "nbconvert_exporter": "python",
   "pygments_lexer": "ipython3",
   "version": "3.10.11"
  }
 },
 "nbformat": 4,
 "nbformat_minor": 2
}
