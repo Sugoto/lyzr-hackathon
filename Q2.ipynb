{
 "cells": [
  {
   "cell_type": "markdown",
   "metadata": {},
   "source": [
    "## ASSUMING P/E RATIOS"
   ]
  },
  {
   "cell_type": "code",
   "execution_count": 15,
   "metadata": {},
   "outputs": [
    {
     "name": "stdout",
     "output_type": "stream",
     "text": [
      "No undervalued stocks with positive price growth found.\n"
     ]
    }
   ],
   "source": [
    "import pandas as pd\n",
    "import numpy as np\n",
    "import json\n",
    "import glob\n",
    "\n",
    "csv_files = glob.glob('csvs/*.csv')\n",
    "\n",
    "# Assuming the following PE Ratios for the stocks\n",
    "pe_ratios = {\n",
    "    'AAPL': 30,\n",
    "    'AMZN': 80,\n",
    "    'BA': 25,\n",
    "    'CHGG': 60,\n",
    "    'MSFT': 35,\n",
    "    'TSLA': 100\n",
    "}\n",
    "\n",
    "stock_data = []\n",
    "\n",
    "for file in csv_files:\n",
    "    stock_ticker = file.split('/')[-1].split('.')[0] \n",
    "    df = pd.read_csv(file)\n",
    "    df['Stock'] = stock_ticker\n",
    "    df['PE_Ratio'] = pe_ratios.get(stock_ticker, np.nan)\n",
    "    stock_data.append(df)\n",
    "\n",
    "data = pd.concat(stock_data)\n",
    "\n",
    "undervalued_stocks = data[data['PE_Ratio'] <= 50]\n",
    "\n",
    "undervalued_stocks['Price_Growth'] = undervalued_stocks.groupby('Stock')['Close'].pct_change(periods=252)\n",
    "\n",
    "top_stocks = undervalued_stocks.groupby('Stock').agg({'Price_Growth': 'max'}).reset_index()\n",
    "top_stocks = top_stocks.sort_values(by='Price_Growth', ascending=False).head(3)\n",
    "\n",
    "budget = 10000\n",
    "if len(top_stocks) > 0:\n",
    "    investment_per_stock = budget / len(top_stocks)\n",
    "\n",
    "    strategy = {}\n",
    "    for _, row in top_stocks.iterrows():\n",
    "        stock = row['Stock']\n",
    "        strategy[stock] = {\n",
    "            \"Amount Invested\": f\"${investment_per_stock:.2f}\",\n",
    "            \"Day to Sell\": (pd.to_datetime(data['Date'].max()) + pd.Timedelta(days=10)).strftime('%Y-%m-%d')\n",
    "        }\n",
    "\n",
    "    strategy_json = json.dumps(strategy, indent=4)\n",
    "    print(strategy_json)\n",
    "else:\n",
    "    print(\"No undervalued stocks with positive price growth found.\")\n"
   ]
  },
  {
   "cell_type": "markdown",
   "metadata": {},
   "source": [
    "## IGNORING P/E RATIOS"
   ]
  },
  {
   "cell_type": "code",
   "execution_count": 11,
   "metadata": {},
   "outputs": [
    {
     "name": "stdout",
     "output_type": "stream",
     "text": [
      "{\n",
      "    \"csvs\\\\AAPL\": {\n",
      "        \"Amount Invested\": \"$3333.33\",\n",
      "        \"Day to Sell\": \"2024-06-13\"\n",
      "    },\n",
      "    \"csvs\\\\AMZN\": {\n",
      "        \"Amount Invested\": \"$3333.33\",\n",
      "        \"Day to Sell\": \"2024-06-13\"\n",
      "    },\n",
      "    \"csvs\\\\BA\": {\n",
      "        \"Amount Invested\": \"$3333.33\",\n",
      "        \"Day to Sell\": \"2024-06-13\"\n",
      "    }\n",
      "}\n"
     ]
    }
   ],
   "source": [
    "import pandas as pd\n",
    "import numpy as np\n",
    "import json\n",
    "import glob\n",
    "\n",
    "csv_files = glob.glob('csvs/*.csv')\n",
    "\n",
    "stock_data = []\n",
    "\n",
    "for file in csv_files:\n",
    "    stock_ticker = file.split('/')[-1].split('.')[0]\n",
    "    df = pd.read_csv(file)\n",
    "    df['Stock'] = stock_ticker\n",
    "    stock_data.append(df)\n",
    "\n",
    "data = pd.concat(stock_data)\n",
    "\n",
    "data['Price_Growth'] = data.groupby('Stock')['Close'].pct_change(periods=252)\n",
    "\n",
    "top_stocks = data.groupby('Stock').agg({'Price_Growth': 'max'}).reset_index()\n",
    "top_stocks = top_stocks.sort_values(by='Price_Growth', ascending=False).head(3)\n",
    "\n",
    "budget = 10000\n",
    "if len(top_stocks) > 0:\n",
    "    investment_per_stock = budget / len(top_stocks)\n",
    "\n",
    "    strategy = {}\n",
    "    for _, row in top_stocks.iterrows():\n",
    "        stock = row['Stock']\n",
    "        strategy[stock] = {\n",
    "            \"Amount Invested\": f\"${investment_per_stock:.2f}\",\n",
    "            \"Day to Sell\": (pd.to_datetime(data['Date'].max()) + pd.Timedelta(days=10)).strftime('%Y-%m-%d')\n",
    "        }\n",
    "\n",
    "    strategy_json = json.dumps(strategy, indent=4)\n",
    "    print(strategy_json)\n",
    "else:\n",
    "    print(\"No stocks with positive price growth found.\")"
   ]
  }
 ],
 "metadata": {
  "kernelspec": {
   "display_name": "myenv",
   "language": "python",
   "name": "python3"
  },
  "language_info": {
   "codemirror_mode": {
    "name": "ipython",
    "version": 3
   },
   "file_extension": ".py",
   "mimetype": "text/x-python",
   "name": "python",
   "nbconvert_exporter": "python",
   "pygments_lexer": "ipython3",
   "version": "3.10.11"
  }
 },
 "nbformat": 4,
 "nbformat_minor": 2
}
